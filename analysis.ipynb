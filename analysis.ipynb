{
 "cells": [
  {
   "cell_type": "code",
   "execution_count": 3,
   "id": "5bd73101",
   "metadata": {},
   "outputs": [],
   "source": [
    "import pandas as pd\n",
    "\n",
    "df = pd.read_csv('generated_answers_with_tags_first_200_rows.csv')\n"
   ]
  },
  {
   "cell_type": "code",
   "execution_count": 4,
   "id": "75265232",
   "metadata": {},
   "outputs": [
    {
     "data": {
      "text/html": [
       "<div>\n",
       "<style scoped>\n",
       "    .dataframe tbody tr th:only-of-type {\n",
       "        vertical-align: middle;\n",
       "    }\n",
       "\n",
       "    .dataframe tbody tr th {\n",
       "        vertical-align: top;\n",
       "    }\n",
       "\n",
       "    .dataframe thead th {\n",
       "        text-align: right;\n",
       "    }\n",
       "</style>\n",
       "<table border=\"1\" class=\"dataframe\">\n",
       "  <thead>\n",
       "    <tr style=\"text-align: right;\">\n",
       "      <th></th>\n",
       "      <th>row_number</th>\n",
       "      <th>question_id</th>\n",
       "      <th>question_title</th>\n",
       "      <th>question_body</th>\n",
       "      <th>question_tags</th>\n",
       "      <th>question_date</th>\n",
       "      <th>accepted_answer_id</th>\n",
       "      <th>answer_id</th>\n",
       "      <th>answer_body</th>\n",
       "      <th>answer_date</th>\n",
       "      <th>...</th>\n",
       "      <th>answer_generated_by_q2</th>\n",
       "      <th>raw_response_prompt1</th>\n",
       "      <th>raw_response_prompt2</th>\n",
       "      <th>prompt1_success</th>\n",
       "      <th>prompt2_success</th>\n",
       "      <th>prompt1_error</th>\n",
       "      <th>prompt2_error</th>\n",
       "      <th>prompt1_metadata</th>\n",
       "      <th>prompt2_metadata</th>\n",
       "      <th>generation_timestamp</th>\n",
       "    </tr>\n",
       "  </thead>\n",
       "  <tbody>\n",
       "    <tr>\n",
       "      <th>0</th>\n",
       "      <td>1</td>\n",
       "      <td>3163234.0</td>\n",
       "      <td>Does anyone know what \"\"Quantum Computing\"\" is?</td>\n",
       "      <td>In physics, its the ability for particles to e...</td>\n",
       "      <td>&lt;language-agnostic&gt;&lt;quantum-computing&gt;</td>\n",
       "      <td>07/02/2010 04:28</td>\n",
       "      <td>3175933.0</td>\n",
       "      <td>3175933.0</td>\n",
       "      <td>I have done research in quantum computing, and...</td>\n",
       "      <td>07/04/2010 19:24</td>\n",
       "      <td>...</td>\n",
       "      <td>NaN</td>\n",
       "      <td>&lt;think&gt; Alright, I'm trying to help someone wh...</td>\n",
       "      <td>&lt;think&gt; Okay, I need to explain what quantum c...</td>\n",
       "      <td>True</td>\n",
       "      <td>False</td>\n",
       "      <td>NaN</td>\n",
       "      <td>No valid JSON found in response</td>\n",
       "      <td>{'key_concepts': ['Quantum bits (qubits)', 'Su...</td>\n",
       "      <td>{}</td>\n",
       "      <td>2025-09-24T00:05:04.010254</td>\n",
       "    </tr>\n",
       "    <tr>\n",
       "      <th>1</th>\n",
       "      <td>2</td>\n",
       "      <td>7118933.0</td>\n",
       "      <td>Need an explanation for a quantum model</td>\n",
       "      <td>When I am reading chapter 10 of Dasgupta I fac...</td>\n",
       "      <td>&lt;algorithm&gt;&lt;quantum-computing&gt;</td>\n",
       "      <td>8/19/2011 8:33</td>\n",
       "      <td>7119177.0</td>\n",
       "      <td>7119177.0</td>\n",
       "      <td>I think the author is trying to point out a di...</td>\n",
       "      <td>8/19/2011 8:54</td>\n",
       "      <td>...</td>\n",
       "      <td>In quantum mechanics, an electron's state can ...</td>\n",
       "      <td>&lt;think&gt; Okay, I'm trying to understand this pa...</td>\n",
       "      <td>&lt;think&gt; Okay, so I'm trying to understand this...</td>\n",
       "      <td>False</td>\n",
       "      <td>True</td>\n",
       "      <td>No valid JSON found in response</td>\n",
       "      <td>NaN</td>\n",
       "      <td>{}</td>\n",
       "      <td>{'technical_depth': 'introductory', 'core_prin...</td>\n",
       "      <td>2025-09-24T00:07:17.550753</td>\n",
       "    </tr>\n",
       "  </tbody>\n",
       "</table>\n",
       "<p>2 rows × 21 columns</p>\n",
       "</div>"
      ],
      "text/plain": [
       "   row_number  question_id                                   question_title  \\\n",
       "0           1    3163234.0  Does anyone know what \"\"Quantum Computing\"\" is?   \n",
       "1           2    7118933.0          Need an explanation for a quantum model   \n",
       "\n",
       "                                       question_body  \\\n",
       "0  In physics, its the ability for particles to e...   \n",
       "1  When I am reading chapter 10 of Dasgupta I fac...   \n",
       "\n",
       "                            question_tags     question_date  \\\n",
       "0  <language-agnostic><quantum-computing>  07/02/2010 04:28   \n",
       "1          <algorithm><quantum-computing>    8/19/2011 8:33   \n",
       "\n",
       "   accepted_answer_id  answer_id  \\\n",
       "0           3175933.0  3175933.0   \n",
       "1           7119177.0  7119177.0   \n",
       "\n",
       "                                         answer_body       answer_date  ...  \\\n",
       "0  I have done research in quantum computing, and...  07/04/2010 19:24  ...   \n",
       "1  I think the author is trying to point out a di...    8/19/2011 8:54  ...   \n",
       "\n",
       "                              answer_generated_by_q2  \\\n",
       "0                                                NaN   \n",
       "1  In quantum mechanics, an electron's state can ...   \n",
       "\n",
       "                                raw_response_prompt1  \\\n",
       "0  <think> Alright, I'm trying to help someone wh...   \n",
       "1  <think> Okay, I'm trying to understand this pa...   \n",
       "\n",
       "                                raw_response_prompt2 prompt1_success  \\\n",
       "0  <think> Okay, I need to explain what quantum c...            True   \n",
       "1  <think> Okay, so I'm trying to understand this...           False   \n",
       "\n",
       "   prompt2_success                    prompt1_error  \\\n",
       "0            False                              NaN   \n",
       "1             True  No valid JSON found in response   \n",
       "\n",
       "                     prompt2_error  \\\n",
       "0  No valid JSON found in response   \n",
       "1                              NaN   \n",
       "\n",
       "                                    prompt1_metadata  \\\n",
       "0  {'key_concepts': ['Quantum bits (qubits)', 'Su...   \n",
       "1                                                 {}   \n",
       "\n",
       "                                    prompt2_metadata  \\\n",
       "0                                                 {}   \n",
       "1  {'technical_depth': 'introductory', 'core_prin...   \n",
       "\n",
       "         generation_timestamp  \n",
       "0  2025-09-24T00:05:04.010254  \n",
       "1  2025-09-24T00:07:17.550753  \n",
       "\n",
       "[2 rows x 21 columns]"
      ]
     },
     "execution_count": 4,
     "metadata": {},
     "output_type": "execute_result"
    }
   ],
   "source": [
    "df.head(2)"
   ]
  },
  {
   "cell_type": "code",
   "execution_count": 5,
   "id": "801f4c26",
   "metadata": {},
   "outputs": [
    {
     "name": "stdout",
     "output_type": "stream",
     "text": [
      "200\n"
     ]
    }
   ],
   "source": [
    "print(len(df))"
   ]
  },
  {
   "cell_type": "code",
   "execution_count": 6,
   "id": "e2a78b37",
   "metadata": {},
   "outputs": [
    {
     "name": "stdout",
     "output_type": "stream",
     "text": [
      "Number of rows where accepted_answer_id and answer_id are the same: 60\n"
     ]
    }
   ],
   "source": [
    "same_id_count = (df['accepted_answer_id'] == df['answer_id']).sum()\n",
    "print(f\"Number of rows where accepted_answer_id and answer_id are the same: {same_id_count}\")\n"
   ]
  },
  {
   "cell_type": "code",
   "execution_count": 7,
   "id": "2c7df154",
   "metadata": {},
   "outputs": [
    {
     "name": "stdout",
     "output_type": "stream",
     "text": [
      "Number of rows where accepted_answer_id and answer_id are notthe same: 140\n"
     ]
    }
   ],
   "source": [
    "same_id_count = (df['accepted_answer_id'] != df['answer_id']).sum()\n",
    "print(f\"Number of rows where accepted_answer_id and answer_id are notthe same: {same_id_count}\")"
   ]
  },
  {
   "cell_type": "code",
   "execution_count": 8,
   "id": "2ff73e10",
   "metadata": {},
   "outputs": [],
   "source": [
    "not_matching_answer_ids_df =df[df['accepted_answer_id'] != df['answer_id']]"
   ]
  },
  {
   "cell_type": "code",
   "execution_count": 10,
   "id": "8b4a0a92",
   "metadata": {},
   "outputs": [
    {
     "data": {
      "text/plain": [
       "Index(['row_number', 'question_id', 'question_title', 'question_body',\n",
       "       'question_tags', 'question_date', 'accepted_answer_id', 'answer_id',\n",
       "       'answer_body', 'answer_date', 'answer_generated_by_q1',\n",
       "       'answer_generated_by_q2', 'raw_response_prompt1',\n",
       "       'raw_response_prompt2', 'prompt1_success', 'prompt2_success',\n",
       "       'prompt1_error', 'prompt2_error', 'prompt1_metadata',\n",
       "       'prompt2_metadata', 'generation_timestamp'],\n",
       "      dtype='object')"
      ]
     },
     "execution_count": 10,
     "metadata": {},
     "output_type": "execute_result"
    }
   ],
   "source": [
    "not_matching_answer_ids_df.columns\n"
   ]
  },
  {
   "cell_type": "code",
   "execution_count": 11,
   "id": "b1ace4f4",
   "metadata": {},
   "outputs": [
    {
     "name": "stdout",
     "output_type": "stream",
     "text": [
      "Number of rows with non-NA 'Answer Body': 0\n"
     ]
    }
   ],
   "source": [
    "not_na_answer_body_count = not_matching_answer_ids_df['answer_body'].notna().sum()\n",
    "print(f\"Number of rows with non-NA 'Answer Body': {not_na_answer_body_count}\")"
   ]
  },
  {
   "cell_type": "code",
   "execution_count": null,
   "id": "fbbcce07",
   "metadata": {},
   "outputs": [
    {
     "name": "stdout",
     "output_type": "stream",
     "text": [
      "Are there any rows where accepted_answer_id or answer_id is not NA? False\n"
     ]
    }
   ],
   "source": [
    "# Check if there are any rows where accepted_answer_id or answer_id is not NA in not_matching_answer_ids_df\n",
    "has_non_na = not_matching_answer_ids_df['accepted_answer_id'].notna() | not_matching_answer_ids_df['answer_id'].notna()\n",
    "any_non_na = has_non_na.any()\n",
    "print(f\"Are there any rows where accepted_answer_id or answer_id is not NA? {any_non_na}\")\n",
    "\n",
    "# Optionally, display those rows\n",
    "if any_non_na:\n",
    "    print(not_matching_answer_ids_df[has_non_na])\n",
    "\n",
    "\n"
   ]
  },
  {
   "cell_type": "code",
   "execution_count": 17,
   "id": "1e84f6af",
   "metadata": {},
   "outputs": [],
   "source": [
    "sample = df.raw_response_prompt1.values[3]"
   ]
  },
  {
   "cell_type": "code",
   "execution_count": 13,
   "id": "90364ba4",
   "metadata": {},
   "outputs": [],
   "source": [
    "quantum_df = pd.read_csv('Quantum_Dataset 26-06-2024.csv', encoding='latin-1')"
   ]
  },
  {
   "cell_type": "code",
   "execution_count": 14,
   "id": "2f045efc",
   "metadata": {},
   "outputs": [
    {
     "data": {
      "text/html": [
       "<div>\n",
       "<style scoped>\n",
       "    .dataframe tbody tr th:only-of-type {\n",
       "        vertical-align: middle;\n",
       "    }\n",
       "\n",
       "    .dataframe tbody tr th {\n",
       "        vertical-align: top;\n",
       "    }\n",
       "\n",
       "    .dataframe thead th {\n",
       "        text-align: right;\n",
       "    }\n",
       "</style>\n",
       "<table border=\"1\" class=\"dataframe\">\n",
       "  <thead>\n",
       "    <tr style=\"text-align: right;\">\n",
       "      <th></th>\n",
       "      <th>QuestionId</th>\n",
       "      <th>QuestionTitle</th>\n",
       "      <th>QuestionBody</th>\n",
       "      <th>QuestionTags</th>\n",
       "      <th>QuestionDate</th>\n",
       "      <th>AcceptedAnswerId</th>\n",
       "      <th>AnswerId</th>\n",
       "      <th>Answer Body</th>\n",
       "      <th>AnswerDate</th>\n",
       "      <th>Category</th>\n",
       "      <th>Description</th>\n",
       "      <th>GPT_Categorisation</th>\n",
       "      <th>GPT_Descriptions</th>\n",
       "      <th>Agree / Not</th>\n",
       "      <th>Count of Not Agree</th>\n",
       "      <th>Negotiation</th>\n",
       "      <th>Reason</th>\n",
       "    </tr>\n",
       "  </thead>\n",
       "  <tbody>\n",
       "    <tr>\n",
       "      <th>493</th>\n",
       "      <td>67593941.0</td>\n",
       "      <td>tensorflow, tensorflow-quantum, grpcio depende...</td>\n",
       "      <td>&lt;p&gt;I installed &lt;code&gt;tensorflow-quantum&lt;/code&gt;...</td>\n",
       "      <td>&lt;tensorflow&gt;&lt;installation&gt;&lt;pip&gt;&lt;tensorflow-qua...</td>\n",
       "      <td>5/18/2021 21:04</td>\n",
       "      <td>NaN</td>\n",
       "      <td>NaN</td>\n",
       "      <td>NaN</td>\n",
       "      <td>NaN</td>\n",
       "      <td>Tooling</td>\n",
       "      <td>This question pertains to resolving dependenc...</td>\n",
       "      <td>Errors</td>\n",
       "      <td>The question addresses a specific error encoun...</td>\n",
       "      <td>No</td>\n",
       "      <td>52.0</td>\n",
       "      <td>Errors</td>\n",
       "      <td>The question addresses a specific error encou...</td>\n",
       "    </tr>\n",
       "  </tbody>\n",
       "</table>\n",
       "</div>"
      ],
      "text/plain": [
       "     QuestionId                                      QuestionTitle  \\\n",
       "493  67593941.0  tensorflow, tensorflow-quantum, grpcio depende...   \n",
       "\n",
       "                                          QuestionBody  \\\n",
       "493  <p>I installed <code>tensorflow-quantum</code>...   \n",
       "\n",
       "                                          QuestionTags     QuestionDate  \\\n",
       "493  <tensorflow><installation><pip><tensorflow-qua...  5/18/2021 21:04   \n",
       "\n",
       "     AcceptedAnswerId  AnswerId Answer Body AnswerDate Category  \\\n",
       "493               NaN       NaN         NaN        NaN  Tooling   \n",
       "\n",
       "                                           Description GPT_Categorisation  \\\n",
       "493   This question pertains to resolving dependenc...             Errors   \n",
       "\n",
       "                                      GPT_Descriptions Agree / Not  \\\n",
       "493  The question addresses a specific error encoun...          No   \n",
       "\n",
       "     Count of Not Agree Negotiation  \\\n",
       "493                52.0      Errors   \n",
       "\n",
       "                                                Reason  \n",
       "493   The question addresses a specific error encou...  "
      ]
     },
     "execution_count": 14,
     "metadata": {},
     "output_type": "execute_result"
    }
   ],
   "source": [
    "quantum_df[quantum_df.QuestionId == 67593941.0]"
   ]
  },
  {
   "cell_type": "code",
   "execution_count": 15,
   "id": "e4be5892",
   "metadata": {},
   "outputs": [
    {
     "name": "stdout",
     "output_type": "stream",
     "text": [
      "Number of rows with non-NA 'Answer Body': 1492\n"
     ]
    }
   ],
   "source": [
    "not_na_answer_body_count = quantum_df['Answer Body'].notna().sum()\n",
    "print(f\"Number of rows with non-NA 'Answer Body': {not_na_answer_body_count}\")"
   ]
  },
  {
   "cell_type": "code",
   "execution_count": 16,
   "id": "d905bbb9",
   "metadata": {},
   "outputs": [
    {
     "data": {
      "text/plain": [
       "2832"
      ]
     },
     "execution_count": 16,
     "metadata": {},
     "output_type": "execute_result"
    }
   ],
   "source": [
    "len(quantum_df)"
   ]
  },
  {
   "cell_type": "code",
   "execution_count": 17,
   "id": "22537bab",
   "metadata": {},
   "outputs": [
    {
     "data": {
      "text/plain": [
       "1340"
      ]
     },
     "execution_count": 17,
     "metadata": {},
     "output_type": "execute_result"
    }
   ],
   "source": [
    "2832-1492"
   ]
  },
  {
   "cell_type": "code",
   "execution_count": null,
   "id": "6909cb23",
   "metadata": {},
   "outputs": [],
   "source": []
  },
  {
   "cell_type": "code",
   "execution_count": 21,
   "id": "f060a0e8",
   "metadata": {},
   "outputs": [],
   "source": [
    "quantum_df_with_valid_answers = quantum_df[quantum_df['AcceptedAnswerId'] == quantum_df['AnswerId']]"
   ]
  },
  {
   "cell_type": "code",
   "execution_count": 23,
   "id": "3f5f494f",
   "metadata": {},
   "outputs": [],
   "source": [
    "quantum_df_with_valid_answers.to_csv('quantum_df_with_valid_answers.csv', index=False)"
   ]
  },
  {
   "cell_type": "code",
   "execution_count": null,
   "id": "f9614690",
   "metadata": {},
   "outputs": [],
   "source": []
  }
 ],
 "metadata": {
  "kernelspec": {
   "display_name": "Python 3",
   "language": "python",
   "name": "python3"
  },
  "language_info": {
   "codemirror_mode": {
    "name": "ipython",
    "version": 3
   },
   "file_extension": ".py",
   "mimetype": "text/x-python",
   "name": "python",
   "nbconvert_exporter": "python",
   "pygments_lexer": "ipython3",
   "version": "3.13.5"
  }
 },
 "nbformat": 4,
 "nbformat_minor": 5
}
